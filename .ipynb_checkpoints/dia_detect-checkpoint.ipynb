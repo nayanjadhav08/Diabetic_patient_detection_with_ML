{
 "cells": [
  {
   "cell_type": "code",
   "execution_count": 8,
   "metadata": {},
   "outputs": [
    {
     "name": "stdout",
     "output_type": "stream",
     "text": [
      "INPUT :  [[  6.    148.     72.    ...  33.6     0.627  50.   ]\n",
      " [  1.     85.     66.    ...  26.6     0.351  31.   ]\n",
      " [  8.    183.     64.    ...  23.3     0.672  32.   ]\n",
      " ...\n",
      " [  5.    121.     72.    ...  26.2     0.245  30.   ]\n",
      " [  1.    126.     60.    ...  30.1     0.349  47.   ]\n",
      " [  1.     93.     70.    ...  30.4     0.315  23.   ]]\n",
      "OUTPUT:  [1 0 1 0 1 0 1 0 1 1 0 1 0 1 1 1 1 1 0 1 0 0 1 1 1 1 1 0 0 0 0 1 0 0 0 0 0\n",
      " 1 1 1 0 0 0 1 0 1 0 0 1 0 0 0 0 1 0 0 1 0 0 0 0 1 0 0 1 0 1 0 0 0 1 0 1 0\n",
      " 0 0 0 0 1 0 0 0 0 0 1 0 0 0 1 0 0 0 0 1 0 0 0 0 0 1 1 0 0 0 0 0 0 0 0 1 1\n",
      " 1 0 0 1 1 1 0 0 0 1 0 0 0 1 1 0 0 1 1 1 1 1 0 0 0 0 0 0 0 0 0 0 1 0 0 0 0\n",
      " 0 0 0 0 1 0 1 1 0 0 0 1 0 0 0 0 1 1 0 0 0 0 1 1 0 0 0 1 0 1 0 1 0 0 0 0 0\n",
      " 1 1 1 1 1 0 0 1 1 0 1 0 1 1 1 0 0 0 0 0 0 1 1 0 1 0 0 0 1 1 1 1 0 1 1 1 1\n",
      " 0 0 0 0 0 1 0 0 1 1 0 0 0 1 1 1 1 0 0 0 1 1 0 1 0 0 0 0 0 0 0 0 1 1 0 0 0\n",
      " 1 0 1 0 0 1 0 1 0 0 1 1 0 0 0 0 0 1 0 0 0 1 0 0 1 1 0 0 1 0 0 0 1 1 1 0 0\n",
      " 1 0 1 0 1 1 0 1 0 0 1 0 1 1 0 0 1 0 1 0 0 1 0 1 0 1 1 1 0 0 1 0 1 0 0 0 1\n",
      " 0 0 0 0 1 1 1 0 0 0 0 0 0 0 0 0 1 0 0 0 0 0 1 1 1 0 1 1 0 0 1 0 0 1 0 0 1\n",
      " 1 0 0 0 0 1 0 0 1 0 0 0 0 0 0 0 1 1 1 0 0 1 0 0 1 0 0 1 0 1 1 0 1 0 1 0 1\n",
      " 0 1 1 0 0 0 0 1 1 0 1 0 1 0 0 0 0 1 1 0 1 0 1 0 0 0 0 0 1 0 0 0 0 1 0 0 1\n",
      " 1 1 0 0 1 0 0 1 0 0 0 1 0 0 1 0 0 0 0 0 0 0 0 0 1 0 0 0 0 0 0 0 1 0 0 0 1\n",
      " 0 0 0 1 1 0 0 0 0 0 0 0 1 0 0 0 0 1 0 0 0 1 0 0 0 1 0 0 0 1 0 0 0 0 1 1 0\n",
      " 0 0 0 0 0 1 0 0 0 0 0 0 0 0 0 0 0 1 0 0 0 1 1 1 1 0 0 1 1 0 0 0 0 0 0 0 0\n",
      " 0 0 0 0 0 1 1 0 0 0 0 0 0 0 1 0 0 0 0 0 0 0 1 0 1 1 0 0 0 1 0 1 0 1 0 1 0\n",
      " 1 0 0 1 0 0 1 0 0 0 0 1 1 0 1 0 0 0 0 1 1 0 1 0 0 0 1 1 0 0 0 0 0 0 0 0 0\n",
      " 0 1 0 0 0 0 1 0 0 1 0 0 0 1 0 0 0 1 1 1 0 0 0 0 0 0 1 0 0 0 1 0 1 1 1 1 0\n",
      " 1 1 0 0 0 0 0 0 0 1 1 0 1 0 0 1 0 1 0 0 0 0 0 1 0 1 0 1 0 1 1 0 0 0 0 1 1\n",
      " 0 0 0 1 0 1 1 0 0 1 0 0 1 1 0 0 1 0 0 1 0 0 0 0 0 0 0 1 1 1 0 0 0 0 0 0 1\n",
      " 1 0 0 1 0 0 1 0 1 1 1 0 0 1 1 1 0 1 0 1 0 1 0 0 0 0 1 0]\n"
     ]
    }
   ],
   "source": [
    "#importing dataset\n",
    "import pandas as pd\n",
    "from sklearn.preprocessing import LabelEncoder\n",
    "from sklearn import metrics\n",
    "from sklearn.metrics import recall_score\n",
    "from sklearn.metrics import precision_score\n",
    "import matplotlib.pyplot as plt\n",
    "import numpy as np\n",
    "\n",
    "dataframe = pd.read_csv('diabetes.csv')\n",
    "#spliting dataset of dependant and independant data\n",
    "X=dataframe.iloc[:,:-1].values\n",
    "Y=dataframe.iloc[:,-1].values\n",
    "\n",
    "# print(\"INPUT : \", X)\n",
    "# print(\"OUTPUT: \", Y)\n",
    "\n"
   ]
  },
  {
   "cell_type": "code",
   "execution_count": 21,
   "metadata": {},
   "outputs": [
    {
     "name": "stderr",
     "output_type": "stream",
     "text": [
      "/home/nayan/.local/lib/python3.8/site-packages/sklearn/metrics/_classification.py:1221: UndefinedMetricWarning: Precision is ill-defined and being set to 0.0 in labels with no predicted samples. Use `zero_division` parameter to control this behavior.\n",
      "  _warn_prf(average, modifier, msg_start, len(result))\n"
     ]
    },
    {
     "name": "stdout",
     "output_type": "stream",
     "text": [
      "[74.89177489177489, 74.04051696855667, 74.89177489177489, 74.45887445887446, 74.95115089219019, 74.45887445887446, 76.19047619047619, 75.2599890530925, 76.19047619047619, 67.96536796536796, 46.19291242667866, 67.96536796536796, 76.62337662337663, 75.80820738715475, 76.62337662337663]\n",
      "\n",
      "***MOST_ACCURATE_ALGO :: RanFor acc\n"
     ]
    },
    {
     "data": {
      "image/png": "[encoded data removed]",
      "text/plain": [
       "<Figure size 432x288 with 1 Axes>"
      ]
     },
     "metadata": {
      "needs_background": "light"
     },
     "output_type": "display_data"
    }
   ],
   "source": [
    "\n",
    "bf1 = Y  #OUT_data \n",
    "bf = X   #IN_data\n",
    "\n",
    "\n",
    "from sklearn.model_selection import train_test_split\n",
    "X_train , X_test ,y_train,y_test = train_test_split(bf,bf1,test_size = 0.3 , random_state = 0 )\n",
    "from sklearn.neighbors import KNeighborsClassifier\n",
    "\n",
    "model = KNeighborsClassifier(n_neighbors=5)\n",
    "\n",
    "# Train the model using the training sets\n",
    "model.fit(X_train,y_train)\n",
    "\n",
    "#Predict Output\n",
    "predictedknn= model.predict(X_test) # 0:Overcast, 2:Mild\n",
    "\n",
    "from sklearn.metrics import confusion_matrix\n",
    "conknn = confusion_matrix(y_test,predictedknn)\n",
    "#print(\"Accuracyknn:\",metrics.accuracy_score(y_test,predictedknn)*100)\n",
    "\n",
    "from sklearn.tree import DecisionTreeClassifier\n",
    "declf = DecisionTreeClassifier()\n",
    "declf = declf.fit(X_train,y_train)\n",
    "predictedDT= declf.predict(X_test)\n",
    "conDT = confusion_matrix(y_test,predictedDT)\n",
    "#print(\"AccuracyDT:\",metrics.accuracy_score(y_test,predictedDT)*100)\n",
    "\n",
    "from sklearn.naive_bayes import GaussianNB\n",
    "modelNB = GaussianNB()\n",
    "modelNB.fit(X_train,y_train)\n",
    "predictedNB= modelNB.predict(X_test)\n",
    "conNB = confusion_matrix(y_test,predictedNB)\n",
    "                         \n",
    "# Model Accuracy, how often is the classifier correct?\n",
    "#print(\"AccuracyNB:\",metrics.accuracy_score(y_test,predictedNB)*100)\n",
    "from sklearn.svm import SVC\n",
    "clf = SVC(gamma='auto')\n",
    "clf.fit(X_train, y_train) \n",
    "SVC(C=1.0, cache_size=200, class_weight=None, coef0=0.0,\n",
    "    decision_function_shape='ovr', degree=3, gamma='auto', kernel='rbf',\n",
    "    max_iter=-1, probability=False, random_state=None, shrinking=True,\n",
    "    tol=0.001, verbose=False)\n",
    "predictedSVC = clf.predict(X_test) # 0:Overcast, 2:Mild\n",
    "\n",
    "\n",
    "from sklearn.ensemble import RandomForestClassifier\n",
    "forestclass=RandomForestClassifier(n_estimators=50)\n",
    "#Train the model using the training sets y_pred=clf.predict(X_test)\n",
    "forestclass.fit(X_train,y_train)\n",
    "predictedRF=forestclass.predict(X_test)\n",
    "\n",
    "\n",
    "\n",
    "\n",
    "label=['K-nn acc','K-nn pre','K-nn recall', 'DTree acc','DTree pre','DTree recall',\n",
    "       'Naive_B acc','NB pre' ,'NB recall', 'SVM acc','SVM pre',\n",
    "       'SVM recall','RanFor acc','RanFor pre' ,'RanFor recall']\n",
    "\n",
    "acc= [\n",
    "    metrics.accuracy_score(y_test,predictedknn)*100,\n",
    "    precision_score(y_test,predictedknn,average='weighted')*100,\n",
    "    recall_score(y_test,predictedknn,average='weighted')*100,\n",
    "    metrics.accuracy_score(y_test,predictedDT)*100,\n",
    "    precision_score(y_test,predictedDT,average='weighted')*100,\n",
    "    recall_score(y_test,predictedDT,average='weighted')*100,\n",
    "    metrics.accuracy_score(y_test,predictedNB)*100,\n",
    "    precision_score(y_test,predictedNB,average='weighted')*100,\n",
    "    recall_score(y_test,predictedNB,average='weighted')*100,\n",
    "    metrics.accuracy_score(y_test,predictedSVC)*100,\n",
    "    precision_score(y_test,predictedSVC,average='weighted')*100,\n",
    "    recall_score(y_test,predictedSVC,average='weighted')*100,\n",
    "    metrics.accuracy_score(y_test,predictedRF)*100,\n",
    "    precision_score(y_test,predictedRF,average='weighted')*100,\n",
    "    recall_score(y_test,predictedRF,average='weighted')*100\n",
    "\n",
    "]\n",
    "\n",
    "# param = [\"KNN\", \"Decision Tree\" ,\"Gaussian Naive Baise\" , \"SVM\" , \"Random Forest\" ]\n",
    "# this is for plotting purpose\n",
    "#plt.figure(figsize=(15,15))\n",
    "print(acc)\n",
    "print(\"\\n***MOST_ACCURATE_ALGO ::\", label[acc.index(max(acc))])\n",
    "\n",
    "index = np.arange(len(label))\n",
    "plt.bar(index,acc, color=['red','blue','green','red','blue','green','red','blue','green'])\n",
    "plt.xlabel('Accuracy , Precision & Recall ', fontsize=10)\n",
    "plt.ylabel('In Percentage', fontsize=10)\n",
    "plt.xticks(index, label, fontsize=10, rotation=30)\n",
    "plt.title('Classification Algorithm')\n",
    "plt.savefig('report.png')\n",
    "plt.show()"
   ]
  },
  {
   "cell_type": "code",
   "execution_count": 15,
   "metadata": {},
   "outputs": [
    {
     "data": {
      "text/plain": [
       "1"
      ]
     },
     "execution_count": 15,
     "metadata": {},
     "output_type": "execute_result"
    }
   ],
   "source": [
    "li = [10 , 11 , 5]\n",
    "li.index(max(li))"
   ]
  }
 ],
 "metadata": {
  "kernelspec": {
   "display_name": "Python 3",
   "language": "python",
   "name": "python3"
  },
  "language_info": {
   "codemirror_mode": {
    "name": "ipython",
    "version": 3
   },
   "file_extension": ".py",
   "mimetype": "text/x-python",
   "name": "python",
   "nbconvert_exporter": "python",
   "pygments_lexer": "ipython3",
   "version": "3.8.2"
  }
 },
 "nbformat": 4,
 "nbformat_minor": 4
}
